{
 "cells": [
  {
   "cell_type": "markdown",
   "metadata": {},
   "source": [
    "# Task 1: Build & Test ETL Job Declaratively\n",
    "### Instructon:\n",
    "### 1. Run each selected cell by clicking on the triangle `run` button above\n",
    "### 2. Complete the missing cell in secton 2.1\n",
    "### 3. Query the final output table in Athena, write the answer to the challenge page."
   ]
  },
  {
   "cell_type": "code",
   "execution_count": null,
   "metadata": {},
   "outputs": [],
   "source": [
    "%conf \n",
    "numRows=12\n",
    "showLog=true"
   ]
  },
  {
   "cell_type": "markdown",
   "metadata": {},
   "source": [
    "# 1. Initial Table Load (ETL Job 1)"
   ]
  },
  {
   "cell_type": "code",
   "execution_count": null,
   "metadata": {},
   "outputs": [],
   "source": [
    "{\n",
    "  \"type\": \"DelimitedExtract\",\n",
    "  \"name\": \"extract initial contact table\",\n",
    "  \"environments\": [\"dev\", \"test\"],\n",
    "  \"inputURI\": \"s3a://\"${ETL_CONF_DATALAKE_LOC}\"/app_code/data/initial_contacts.csv\",\n",
    "  \"outputView\": \"initial_raw\",            \n",
    "  \"delimiter\": \"Comma\",\n",
    "  \"header\": false,\n",
    "  \"quote\": \"None\",\n",
    "  \"authentication\": {\n",
    "     \"method\": \"AmazonIAM\"\n",
    "  }\n",
    "}"
   ]
  },
  {
   "cell_type": "markdown",
   "metadata": {},
   "source": [
    "## 1.2 Check Original Data Schema"
   ]
  },
  {
   "cell_type": "code",
   "execution_count": null,
   "metadata": {},
   "outputs": [],
   "source": [
    "%printschema \n",
    "initial_raw"
   ]
  },
  {
   "cell_type": "markdown",
   "metadata": {
    "ExecuteTime": {
     "start_time": "2020-03-03T08:30:30.028Z"
    }
   },
   "source": [
    "## 1.3 Apply Data Type"
   ]
  },
  {
   "cell_type": "code",
   "execution_count": null,
   "metadata": {},
   "outputs": [],
   "source": [
    "{\n",
    "  \"type\": \"TypingTransform\",\n",
    "  \"name\": \"apply table schema to CSV\",\n",
    "  \"environments\": [\"dev\", \"test\"],\n",
    "  \"schemaURI\": \"s3a://\"${ETL_CONF_DATALAKE_LOC}\"/app_code/meta/contact_meta_0.json\",\n",
    "  \"inputView\": \"initial_raw\",            \n",
    "  \"outputView\": \"initial_typed\",\n",
    "  \"authentication\": {\n",
    "     \"method\": \"AmazonIAM\"\n",
    "  }\n",
    "}"
   ]
  },
  {
   "cell_type": "markdown",
   "metadata": {},
   "source": [
    "## 1.4 Check Typed Table Schema"
   ]
  },
  {
   "cell_type": "code",
   "execution_count": null,
   "metadata": {},
   "outputs": [],
   "source": [
    "%printschema \n",
    "initial_typed"
   ]
  },
  {
   "cell_type": "markdown",
   "metadata": {},
   "source": [
    "## 1.5 Add Calculated Fields for SCD Type 2\n",
    "### Pass in CURRENT_TIMESTAMP as a parameter, when the ETL job is triggered"
   ]
  },
  {
   "cell_type": "code",
   "execution_count": null,
   "metadata": {},
   "outputs": [],
   "source": [
    "%env\n",
    "ETL_CONF_CURRENT_TIMESTAMP=current_timestamp()"
   ]
  },
  {
   "cell_type": "code",
   "execution_count": null,
   "metadata": {},
   "outputs": [],
   "source": [
    "%sql outputView=\"initial_load\" name=\"add calc field for SCD\" environments=dev,test sqlParams=table_name=initial_typed,ETL_CONF_CURRENT_TIMESTAMP=${ETL_CONF_CURRENT_TIMESTAMP}\n",
    "\n",
    "SELECT id,name,email,state,${ETL_CONF_CURRENT_TIMESTAMP} AS valid_from,CAST(null AS timestamp) AS valid_to\n",
    ",1 AS iscurrent,md5(concat(name,email,state)) AS checksum \n",
    "FROM ${table_name}"
   ]
  },
  {
   "cell_type": "markdown",
   "metadata": {},
   "source": [
    "## 1.6 Full table load to Delta Lake\n",
    "### [Delta Lake](https://delta.io/) is an open source storage layer to support Time Travel, ACID transaction in Data Lake"
   ]
  },
  {
   "cell_type": "code",
   "execution_count": null,
   "metadata": {},
   "outputs": [],
   "source": [
    "{\n",
    "  \"type\": \"DeltaLakeLoad\",\n",
    "  \"name\": \"Initial full table load to s3 in parquet format\",\n",
    "  \"environments\": [\"dev\", \"test\"],\n",
    "  \"inputView\": \"initial_load\",\n",
    "  \"outputURI\": \"s3a://\"${ETL_CONF_DATALAKE_LOC}\"/app_code/output/contact/\",\n",
    "  \"numPartitions\": 2\n",
    "  \"saveMode\": \"Overwrite\",\n",
    "  \"authentication\": {\n",
    "     \"method\": \"AmazonIAM\"\n",
    "  }\n",
    "}"
   ]
  },
  {
   "cell_type": "markdown",
   "metadata": {
    "ExecuteTime": {
     "end_time": "2020-05-31T04:55:34.761654Z",
     "start_time": "2020-05-31T04:55:34.738Z"
    }
   },
   "source": [
    "# Process Incremental Data Change (ETL Job 2)"
   ]
  },
  {
   "cell_type": "markdown",
   "metadata": {
    "ExecuteTime": {
     "end_time": "2020-03-18T22:38:05.895407Z",
     "start_time": "2020-03-18T22:37:48.160Z"
    }
   },
   "source": [
    "## 2. Ingest a CDC CSV file that contains delta change\n",
    "### Look at record ID 12, the `state` is changed"
   ]
  },
  {
   "cell_type": "code",
   "execution_count": null,
   "metadata": {},
   "outputs": [],
   "source": [
    "{\n",
    "  \"type\": \"DelimitedExtract\",\n",
    "  \"name\": \"extract incremental data change\",\n",
    "  \"environments\": [\"dev\", \"test\"],\n",
    "  \"inputURI\": \"s3a://\"${ETL_CONF_DATALAKE_LOC}\"/app_code/data/update_contacts.csv\",\n",
    "  \"outputView\": \"cdc_raw\",            \n",
    "  \"delimiter\": \"Comma\",\n",
    "  \"header\": false,\n",
    "  \"authentication\": {\n",
    "     \"method\": \"AmazonIAM\"\n",
    "  }\n",
    "}"
   ]
  },
  {
   "cell_type": "markdown",
   "metadata": {},
   "source": [
    "## 2.1 Apply Data Type (build your transformation here)\n",
    "### ======== TASK #1 ==========\n",
    "### Tip: copy content from `section 1.3`, correct the `inputView` and `outputView` attributes that are mentioned in section 2 and in section 2.2."
   ]
  },
  {
   "cell_type": "code",
   "execution_count": null,
   "metadata": {},
   "outputs": [],
   "source": [
    "{\n",
    "  `Fill in this block with your JSON defintion`\n",
    "  ?????????\n",
    "  ?????????\n",
    "  ?????????\n",
    "}"
   ]
  },
  {
   "cell_type": "markdown",
   "metadata": {
    "ExecuteTime": {
     "end_time": "2020-05-31T05:01:13.796275Z",
     "start_time": "2020-05-31T05:01:13.734Z"
    }
   },
   "source": [
    "## 2.2 Add Calculated Fields (same sql script)"
   ]
  },
  {
   "cell_type": "code",
   "execution_count": null,
   "metadata": {},
   "outputs": [],
   "source": [
    "%env\n",
    "ETL_CONF_CURRENT_TIMESTAMP=current_timestamp()"
   ]
  },
  {
   "cell_type": "code",
   "execution_count": null,
   "metadata": {},
   "outputs": [],
   "source": [
    "%sql outputView=\"cdc_load\" name=\"add calc field for CDC\" environments=dev,test sqlParams=table_name=cdc_typed,ETL_CONF_CURRENT_TIMESTAMP=${ETL_CONF_CURRENT_TIMESTAMP}\n",
    "\n",
    "SELECT id,name,email,state, ${ETL_CONF_CURRENT_TIMESTAMP} AS valid_from, CAST(null AS timestamp) AS valid_to\n",
    ",1 AS iscurrent, md5(concat(name,email,state)) AS checksum \n",
    "FROM ${table_name}"
   ]
  },
  {
   "cell_type": "markdown",
   "metadata": {},
   "source": [
    "# SCD Type2 Merge Operation (ETL Job 3)"
   ]
  },
  {
   "cell_type": "markdown",
   "metadata": {
    "ExecuteTime": {
     "end_time": "2020-05-31T05:03:33.741024Z",
     "start_time": "2020-05-31T05:03:33.247Z"
    }
   },
   "source": [
    "## 3. Prepare Datasets for SCD Type2 Insert\n",
    "\n",
    "The 'null' mergeKey helps you insert a changed record as a new row based on the SCD type 2 rule"
   ]
  },
  {
   "cell_type": "code",
   "execution_count": null,
   "metadata": {},
   "outputs": [],
   "source": [
    "%sql outputView=\"staged_update\" name=\"generate extra rows for SCD\" environments=dev,test\n",
    "\n",
    "SELECT NULL AS mergeKey, new.*\n",
    "FROM initial_load old\n",
    "INNER JOIN cdc_load new\n",
    "ON old.id = new.id\n",
    "WHERE old.iscurrent=true\n",
    "AND old.checksum<>new.checksum\n",
    "\n",
    "UNION\n",
    "\n",
    "SELECT id AS mergeKey, *\n",
    "FROM cdc_load"
   ]
  },
  {
   "cell_type": "markdown",
   "metadata": {},
   "source": [
    "## 3.2. Perform the MERGE operation for SCD type 2\n",
    "- source = CDC table (staged_update)\n",
    "- target = Initial snapshot table"
   ]
  },
  {
   "cell_type": "code",
   "execution_count": null,
   "metadata": {},
   "outputs": [],
   "source": [
    "{\n",
    "  \"type\": \"DeltaLakeMergeLoad\",\n",
    "  \"name\": \"insert/update existing data and output to target Delta Lake\",\n",
    "  \"environments\": [\"dev\",\"test\"],\n",
    "  \"inputView\": \"staged_update\",\n",
    "  \"numPartitions\": 2,\n",
    "  \"outputURI\": \"s3a://\"${ETL_CONF_DATALAKE_LOC}\"/app_code/output/contact/\"\n",
    "  \"condition\": \"source.mergeKey = target.id\",\n",
    "  \"whenMatchedUpdate\": {\n",
    "    \"condition\": \"target.iscurrent = true AND source.checksum <> target.checksum\",\n",
    "    \"values\": {\n",
    "      \"valid_to\": ${ETL_CONF_CURRENT_TIMESTAMP},\n",
    "      \"iscurrent\": false\n",
    "    }\n",
    "  },\n",
    "  //merge key is null\n",
    "  \"whenNotMatchedByTargetInsert\": {}\n",
    "}"
   ]
  },
  {
   "cell_type": "markdown",
   "metadata": {},
   "source": [
    "## 3.3. Make the output table queryable in Athena\n",
    "- Build up a Glue data catalog from Athena. \n",
    "- Use token based authentication to access Athena. "
   ]
  },
  {
   "cell_type": "code",
   "execution_count": null,
   "metadata": {},
   "outputs": [],
   "source": [
    "{\n",
    "  \"type\": \"JDBCExecute\",\n",
    "  \"name\": \"Create glue data catalog\",\n",
    "  \"environments\": [\n",
    "    \"dev\",\n",
    "    \"test\"\n",
    "  ],\n",
    "  \"inputURI\": \"s3a://\"${ETL_CONF_DATALAKE_LOC}\"/app_code/sql/create_table_contact.sql\",\n",
    "  \"jdbcURL\": \"jdbc:awsathena://AwsRegion=\"${AWS_DEFAULT_REGION}\";S3OutputLocation=s3://\"${ETL_CONF_DATALAKE_LOC}\"/athena-query-result;AwsCredentialsProviderClass=com.amazonaws.auth.WebIdentityTokenCredentialsProvider\",\n",
    "  \"sqlParams\":{\n",
    "    \"datalake_loc\": \"'s3://\"${ETL_CONF_DATALAKE_LOC}\"/app_code/output/contact/_symlink_format_manifest/'\",\n",
    "    \"table_name\": \"default.deltalake_contact_jupyter\"\n",
    "  }\n",
    "}"
   ]
  },
  {
   "cell_type": "markdown",
   "metadata": {},
   "source": [
    "### ======== TASK #1 ==========\n",
    "### How many records are expired?\n",
    "### Query the new table in [Athena](https://console.aws.amazon.com/athena/home), submit your answer to complete the task."
   ]
  },
  {
   "cell_type": "code",
   "execution_count": null,
   "metadata": {},
   "outputs": [],
   "source": []
  },
  {
   "cell_type": "markdown",
   "metadata": {},
   "source": [
    "## 4. (OPTONAL) Query Delta Lake from S3\n",
    "To skip the followng test cells in automated ETL process, use a fake environment `uat`"
   ]
  },
  {
   "cell_type": "code",
   "execution_count": null,
   "metadata": {},
   "outputs": [],
   "source": [
    "{\n",
    "  \"type\": \"DeltaLakeExtract\",\n",
    "  \"name\": \"read contact Delta Lake table\",\n",
    "  \"description\": \"read contact table\",\n",
    "  \"environments\": [\n",
    "    \"uat\"\n",
    "  ],\n",
    "  \"inputURI\": \"s3a://\"${ETL_CONF_DATALAKE_LOC}\"/app_code/output/contact/\",\n",
    "  \"outputView\": \"contact\"\n",
    "}"
   ]
  },
  {
   "cell_type": "markdown",
   "metadata": {},
   "source": [
    "## 4.1 (OPTIONAL) View one of the changed records"
   ]
  },
  {
   "cell_type": "code",
   "execution_count": null,
   "metadata": {},
   "outputs": [],
   "source": [
    "%sql outputView=\"validate_type2\" name=\"validate_type2\" environments=uat\n",
    "SELECT * FROM contact WHERE id=12"
   ]
  }
 ],
 "metadata": {
  "kernelspec": {
   "display_name": "Arc",
   "language": "javascript",
   "name": "arc"
  },
  "language_info": {
   "codemirror_mode": "javascript",
   "file_extension": ".json",
   "mimetype": "javascript",
   "name": "arc",
   "nbconvert_exporter": "arcexport",
   "version": "3.13.1"
  }
 },
 "nbformat": 4,
 "nbformat_minor": 4
}
