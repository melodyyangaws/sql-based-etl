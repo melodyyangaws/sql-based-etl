{
 "cells": [
  {
   "cell_type": "code",
   "execution_count": 8,
   "id": "sixth-mailman",
   "metadata": {},
   "outputs": [],
   "source": [
    "from pyspark.context import SparkContext\n",
    "from pyspark.sql import SparkSession, SQLContext\n",
    "\n",
    "spark = SparkSession.builder.appName('Amazon reviews word count').getOrCreate()"
   ]
  },
  {
   "cell_type": "code",
   "execution_count": 9,
   "id": "fluid-harassment",
   "metadata": {},
   "outputs": [],
   "source": [
    "hadoop_conf = spark.sparkContext._jsc.hadoopConfiguration()\n",
    "hadoop_conf.set(\"fs.s3a.aws.credentials.provider\", \"com.amazonaws.auth.WebIdentityTokenCredentialsProvider\")"
   ]
  },
  {
   "cell_type": "code",
   "execution_count": 10,
   "id": "ecological-nylon",
   "metadata": {},
   "outputs": [],
   "source": [
    "df = spark.read.parquet(\"s3a://amazon-reviews-pds/parquet/product_category=Books/*.parquet\")"
   ]
  },
  {
   "cell_type": "code",
   "execution_count": 11,
   "id": "continuing-carrier",
   "metadata": {},
   "outputs": [
    {
     "name": "stdout",
     "output_type": "stream",
     "text": [
      "    year    count\n",
      "0   1995      211\n",
      "1   1996     5024\n",
      "2   1997    39582\n",
      "3   1998   129068\n",
      "4   1999   262997\n",
      "5   2000   571135\n",
      "6   2001   461224\n",
      "7   2002   444260\n",
      "8   2003   459694\n",
      "9   2004   461265\n",
      "10  2005   539531\n",
      "11  2006   587516\n",
      "12  2007   788724\n",
      "13  2008   859497\n",
      "14  2009  1050246\n",
      "15  2010  1161966\n",
      "16  2011  1357646\n",
      "17  2012  1736442\n",
      "18  2013  3106099\n",
      "19  2014  3710219\n",
      "20  2015  2993814\n"
     ]
    }
   ],
   "source": [
    "number_of_review_by_year= df.groupBy(\"year\").count().orderBy(\"year\").toPandas()\n",
    "print (number_of_review_by_year)"
   ]
  },
  {
   "cell_type": "code",
   "execution_count": null,
   "id": "guided-crisis",
   "metadata": {},
   "outputs": [],
   "source": []
  },
  {
   "cell_type": "code",
   "execution_count": null,
   "id": "reduced-terrorism",
   "metadata": {},
   "outputs": [],
   "source": [
    "Import matplotlib.pyplot as plt"
   ]
  },
  {
   "cell_type": "code",
   "execution_count": null,
   "id": "physical-forestry",
   "metadata": {},
   "outputs": [],
   "source": [
    "\n",
    "plt.clf()\n",
    "number_of_review_by_year.plot(kind=‘area’, x=‘year’, y=‘count’,  rot=70, color=‘#bc5090’, legend=None, figsize=(8,6))\n",
    "plt.xticks(number_of_review_by_year.year)\n",
    "plt.xlim(1995,2015)\n",
    "plt.title(‘number of reviews across years’)\n",
    "plt.xlabel(‘year’)\n",
    "plt.ylabel(‘Number of reviews’)"
   ]
  }
 ],
 "metadata": {
  "kernelspec": {
   "display_name": "Python 3",
   "language": "python",
   "name": "python3"
  },
  "language_info": {
   "codemirror_mode": {
    "name": "ipython",
    "version": 3
   },
   "file_extension": ".py",
   "mimetype": "text/x-python",
   "name": "python",
   "nbconvert_exporter": "python",
   "pygments_lexer": "ipython3",
   "version": "3.7.3"
  }
 },
 "nbformat": 4,
 "nbformat_minor": 5
}
